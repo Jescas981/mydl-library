{
  "nbformat": 4,
  "nbformat_minor": 0,
  "metadata": {
    "colab": {
      "provenance": [],
      "gpuType": "T4",
      "authorship_tag": "ABX9TyORdmV5Z6d33UOKo21UE8/y",
      "include_colab_link": true
    },
    "kernelspec": {
      "name": "python3",
      "display_name": "Python 3"
    },
    "language_info": {
      "name": "python"
    },
    "accelerator": "GPU"
  },
  "cells": [
    {
      "cell_type": "markdown",
      "metadata": {
        "id": "view-in-github",
        "colab_type": "text"
      },
      "source": [
        "<a href=\"https://colab.research.google.com/github/Jescas981/mydl-library/blob/main/examples/notebooks/MNIST_Model_784.ipynb\" target=\"_parent\"><img src=\"https://colab.research.google.com/assets/colab-badge.svg\" alt=\"Open In Colab\"/></a>"
      ]
    },
    {
      "cell_type": "code",
      "execution_count": 1,
      "metadata": {
        "colab": {
          "base_uri": "https://localhost:8080/"
        },
        "id": "fN9602WVqzMX",
        "outputId": "ef22a137-6496-4771-961f-ccf2f50ab974"
      },
      "outputs": [
        {
          "output_type": "stream",
          "name": "stdout",
          "text": [
            "Collecting git+https://github.com/Jescas981/mydl-library\n",
            "  Cloning https://github.com/Jescas981/mydl-library to /tmp/pip-req-build-b1m08rxd\n",
            "  Running command git clone --filter=blob:none --quiet https://github.com/Jescas981/mydl-library /tmp/pip-req-build-b1m08rxd\n",
            "  Resolved https://github.com/Jescas981/mydl-library to commit 794bf19ff87d21fa5813d75e183b36241a875876\n",
            "  Preparing metadata (setup.py) ... \u001b[?25l\u001b[?25hdone\n",
            "Requirement already satisfied: torch in /usr/local/lib/python3.10/dist-packages (from mydllib==0.0.5) (2.2.1+cu121)\n",
            "Requirement already satisfied: numpy in /usr/local/lib/python3.10/dist-packages (from mydllib==0.0.5) (1.25.2)\n",
            "Requirement already satisfied: matplotlib in /usr/local/lib/python3.10/dist-packages (from mydllib==0.0.5) (3.7.1)\n",
            "Requirement already satisfied: scikit-learn in /usr/local/lib/python3.10/dist-packages (from mydllib==0.0.5) (1.2.2)\n",
            "Requirement already satisfied: contourpy>=1.0.1 in /usr/local/lib/python3.10/dist-packages (from matplotlib->mydllib==0.0.5) (1.2.0)\n",
            "Requirement already satisfied: cycler>=0.10 in /usr/local/lib/python3.10/dist-packages (from matplotlib->mydllib==0.0.5) (0.12.1)\n",
            "Requirement already satisfied: fonttools>=4.22.0 in /usr/local/lib/python3.10/dist-packages (from matplotlib->mydllib==0.0.5) (4.50.0)\n",
            "Requirement already satisfied: kiwisolver>=1.0.1 in /usr/local/lib/python3.10/dist-packages (from matplotlib->mydllib==0.0.5) (1.4.5)\n",
            "Requirement already satisfied: packaging>=20.0 in /usr/local/lib/python3.10/dist-packages (from matplotlib->mydllib==0.0.5) (24.0)\n",
            "Requirement already satisfied: pillow>=6.2.0 in /usr/local/lib/python3.10/dist-packages (from matplotlib->mydllib==0.0.5) (9.4.0)\n",
            "Requirement already satisfied: pyparsing>=2.3.1 in /usr/local/lib/python3.10/dist-packages (from matplotlib->mydllib==0.0.5) (3.1.2)\n",
            "Requirement already satisfied: python-dateutil>=2.7 in /usr/local/lib/python3.10/dist-packages (from matplotlib->mydllib==0.0.5) (2.8.2)\n",
            "Requirement already satisfied: scipy>=1.3.2 in /usr/local/lib/python3.10/dist-packages (from scikit-learn->mydllib==0.0.5) (1.11.4)\n",
            "Requirement already satisfied: joblib>=1.1.1 in /usr/local/lib/python3.10/dist-packages (from scikit-learn->mydllib==0.0.5) (1.3.2)\n",
            "Requirement already satisfied: threadpoolctl>=2.0.0 in /usr/local/lib/python3.10/dist-packages (from scikit-learn->mydllib==0.0.5) (3.4.0)\n",
            "Requirement already satisfied: filelock in /usr/local/lib/python3.10/dist-packages (from torch->mydllib==0.0.5) (3.13.3)\n",
            "Requirement already satisfied: typing-extensions>=4.8.0 in /usr/local/lib/python3.10/dist-packages (from torch->mydllib==0.0.5) (4.10.0)\n",
            "Requirement already satisfied: sympy in /usr/local/lib/python3.10/dist-packages (from torch->mydllib==0.0.5) (1.12)\n",
            "Requirement already satisfied: networkx in /usr/local/lib/python3.10/dist-packages (from torch->mydllib==0.0.5) (3.2.1)\n",
            "Requirement already satisfied: jinja2 in /usr/local/lib/python3.10/dist-packages (from torch->mydllib==0.0.5) (3.1.3)\n",
            "Requirement already satisfied: fsspec in /usr/local/lib/python3.10/dist-packages (from torch->mydllib==0.0.5) (2023.6.0)\n",
            "Requirement already satisfied: nvidia-cuda-nvrtc-cu12==12.1.105 in /usr/local/lib/python3.10/dist-packages (from torch->mydllib==0.0.5) (12.1.105)\n",
            "Requirement already satisfied: nvidia-cuda-runtime-cu12==12.1.105 in /usr/local/lib/python3.10/dist-packages (from torch->mydllib==0.0.5) (12.1.105)\n",
            "Requirement already satisfied: nvidia-cuda-cupti-cu12==12.1.105 in /usr/local/lib/python3.10/dist-packages (from torch->mydllib==0.0.5) (12.1.105)\n",
            "Requirement already satisfied: nvidia-cudnn-cu12==8.9.2.26 in /usr/local/lib/python3.10/dist-packages (from torch->mydllib==0.0.5) (8.9.2.26)\n",
            "Requirement already satisfied: nvidia-cublas-cu12==12.1.3.1 in /usr/local/lib/python3.10/dist-packages (from torch->mydllib==0.0.5) (12.1.3.1)\n",
            "Requirement already satisfied: nvidia-cufft-cu12==11.0.2.54 in /usr/local/lib/python3.10/dist-packages (from torch->mydllib==0.0.5) (11.0.2.54)\n",
            "Requirement already satisfied: nvidia-curand-cu12==10.3.2.106 in /usr/local/lib/python3.10/dist-packages (from torch->mydllib==0.0.5) (10.3.2.106)\n",
            "Requirement already satisfied: nvidia-cusolver-cu12==11.4.5.107 in /usr/local/lib/python3.10/dist-packages (from torch->mydllib==0.0.5) (11.4.5.107)\n",
            "Requirement already satisfied: nvidia-cusparse-cu12==12.1.0.106 in /usr/local/lib/python3.10/dist-packages (from torch->mydllib==0.0.5) (12.1.0.106)\n",
            "Requirement already satisfied: nvidia-nccl-cu12==2.19.3 in /usr/local/lib/python3.10/dist-packages (from torch->mydllib==0.0.5) (2.19.3)\n",
            "Requirement already satisfied: nvidia-nvtx-cu12==12.1.105 in /usr/local/lib/python3.10/dist-packages (from torch->mydllib==0.0.5) (12.1.105)\n",
            "Requirement already satisfied: triton==2.2.0 in /usr/local/lib/python3.10/dist-packages (from torch->mydllib==0.0.5) (2.2.0)\n",
            "Requirement already satisfied: nvidia-nvjitlink-cu12 in /usr/local/lib/python3.10/dist-packages (from nvidia-cusolver-cu12==11.4.5.107->torch->mydllib==0.0.5) (12.4.127)\n",
            "Requirement already satisfied: six>=1.5 in /usr/local/lib/python3.10/dist-packages (from python-dateutil>=2.7->matplotlib->mydllib==0.0.5) (1.16.0)\n",
            "Requirement already satisfied: MarkupSafe>=2.0 in /usr/local/lib/python3.10/dist-packages (from jinja2->torch->mydllib==0.0.5) (2.1.5)\n",
            "Requirement already satisfied: mpmath>=0.19 in /usr/local/lib/python3.10/dist-packages (from sympy->torch->mydllib==0.0.5) (1.3.0)\n"
          ]
        }
      ],
      "source": [
        "#!pip uninstall mydllib -y\n",
        "!pip install git+https://github.com/Jescas981/mydl-library\n",
        "#!pip freeze"
      ]
    },
    {
      "cell_type": "code",
      "source": [
        "from mydllib import layers, functional\n",
        "from mydllib.utilities import DataLoader\n",
        "import numpy as np\n",
        "import torch"
      ],
      "metadata": {
        "id": "2aNqTfryq4JX"
      },
      "execution_count": 2,
      "outputs": []
    },
    {
      "cell_type": "code",
      "source": [
        "# Import data\n",
        "base_url = 'http://yann.lecun.com/exdb/mnist'\n",
        "loader = DataLoader(download_dir='./data',\n",
        "                    urls=[\n",
        "                        f'{base_url}/train-images-idx3-ubyte.gz',\n",
        "                        f'{base_url}/train-labels-idx1-ubyte.gz',\n",
        "                        f'{base_url}/t10k-images-idx3-ubyte.gz',\n",
        "                        f'{base_url}/t10k-labels-idx1-ubyte.gz'\n",
        "                        ])\n",
        "train_images, train_labels, test_images, test_labels = loader.read_dataset()"
      ],
      "metadata": {
        "id": "9z8Jq2nMsWAX"
      },
      "execution_count": 3,
      "outputs": []
    },
    {
      "cell_type": "code",
      "source": [
        "from mydllib.functional import StandardScaler\n",
        "\n",
        "# Normalize data\n",
        "scaler = StandardScaler()\n",
        "train_images_norm = scaler.fit_transform(train_images)\n",
        "test_images_norm = scaler.transform(test_images)\n",
        "\n",
        "# Check if GPU is available\n",
        "device = torch.device(\"cuda\" if torch.cuda.is_available() else \"cpu\")\n",
        "print(\"Using device:\", device)\n",
        "\n",
        "# Turn data to tensors\n",
        "X_train = torch.tensor(train_images_norm, dtype=torch.float32).to(device)\n",
        "X_test = torch.tensor(test_images_norm, dtype=torch.float32).to(device)\n",
        "y_train = torch.tensor(train_labels, dtype=torch.long).to(device)\n",
        "y_test = torch.tensor(test_labels, dtype=torch.long).to(device)"
      ],
      "metadata": {
        "colab": {
          "base_uri": "https://localhost:8080/"
        },
        "id": "5k6_ctVy4v6x",
        "outputId": "9c3f1778-39a3-4ee8-ee19-bd514cb2e942"
      },
      "execution_count": 4,
      "outputs": [
        {
          "output_type": "stream",
          "name": "stdout",
          "text": [
            "Using device: cuda\n"
          ]
        }
      ]
    },
    {
      "cell_type": "code",
      "source": [
        "# Create Model\n",
        "from mydllib import layers, modules\n",
        "from typing import List\n",
        "import torch\n",
        "\n",
        "class MNIST784(modules.Model):\n",
        "    def __init__(self, device:str) -> None:\n",
        "        super().__init__(device)\n",
        "        self.layers: List[layers.Layer] = [\n",
        "            layers.Conv(size=(16, 16),device= device),\n",
        "            layers.Relu(),\n",
        "            layers.Conv(size=(8, 8), device= device),\n",
        "            layers.Relu(),\n",
        "            layers.Conv(size=(4, 4), device= device),\n",
        "            layers.Relu(),\n",
        "            layers.Flatten(dim=1),\n",
        "            layers.Linear(size=(9, 10), device= device),\n",
        "            layers.Relu(),\n",
        "            layers.Linear(size=(10, 10), device= device),\n",
        "            layers.Softmax(n_classes=10),\n",
        "        ]\n",
        "\n",
        "    def forward(self, X: torch.Tensor) -> torch.Tensor:\n",
        "        a = X\n",
        "        for l in self.layers:\n",
        "            a = l(a)\n",
        "        return a\n",
        "\n",
        "    def backward(self, loss_grad: torch.Tensor):\n",
        "        grad = loss_grad\n",
        "        for l in reversed(self.layers):\n",
        "            grad = l.backward(grad)"
      ],
      "metadata": {
        "id": "W___Wdvn5BP4"
      },
      "execution_count": 20,
      "outputs": []
    },
    {
      "cell_type": "code",
      "source": [
        "from mydllib.losses import CategoricalCrossEntropyLoss\n",
        "from mydllib.optimizers import BatchGradientDescent\n",
        "\n",
        "model = MNIST784(device=device)\n",
        "loss_fn = CategoricalCrossEntropyLoss()\n",
        "optim = BatchGradientDescent(lr=3e-2)"
      ],
      "metadata": {
        "id": "OSmoXwsT-2hx"
      },
      "execution_count": 30,
      "outputs": []
    },
    {
      "cell_type": "code",
      "source": [
        "from mydllib.functional.metrics import accuracy\n",
        "\n",
        "class BatchLoader:\n",
        "  def __init__(self, input_data, target_data, batch_size, shuffle=True):\n",
        "    self.batch_size = batch_size\n",
        "    self.input_data = input_data\n",
        "    self.target_data = target_data\n",
        "    self.shuffle = shuffle\n",
        "    self.num_samples = len(input_data)\n",
        "    self.num_batches = (self.num_samples + self.batch_size - 1) // self.batch_size\n",
        "    self.current_batch = 0\n",
        "    self.indices = torch.arange(self.num_samples)\n",
        "\n",
        "    if self.shuffle:\n",
        "        self.indices = self.indices[torch.randperm(self.num_samples)]\n",
        "\n",
        "  def __iter__(self):\n",
        "    return self\n",
        "\n",
        "  def __next__(self):\n",
        "    if self.current_batch >= self.num_batches:\n",
        "        raise StopIteration\n",
        "\n",
        "    start_idx = self.current_batch * self.batch_size\n",
        "    end_idx = min((self.current_batch + 1) * self.batch_size, self.num_samples)\n",
        "\n",
        "    batch_indices = self.indices[start_idx:end_idx]\n",
        "\n",
        "    batch_input = self.input_data[batch_indices]\n",
        "    batch_target = self.target_data[batch_indices]\n",
        "\n",
        "    self.current_batch += 1\n",
        "\n",
        "    return batch_input, batch_target\n",
        "\n",
        "# Training proccess\n",
        "epochs = 15\n",
        "loss_h = []\n",
        "tloss_h = []\n",
        "for epoch in range(epochs):\n",
        "  loader = BatchLoader(X_train, y_train, batch_size=8192, shuffle=True)\n",
        "  test_loader = BatchLoader(X_train, y_train, batch_size=8192, shuffle=True)\n",
        "\n",
        "  total_acc = 0\n",
        "  total_loss = 0\n",
        "  total_tacc = 0\n",
        "  total_tloss = 0\n",
        "\n",
        "  for batch_x, batch_y in loader:\n",
        "    # Forward propagation\n",
        "    y_pred = model(batch_x)\n",
        "    loss = loss_fn(y_true=batch_y, y_hat=y_pred)\n",
        "    total_acc += accuracy(batch_y, y_pred)*100 / loader.num_batches\n",
        "    total_loss += loss / loader.num_batches\n",
        "    # Backward propagation\n",
        "    loss_grad = loss_fn.backward(y_true=batch_y, y_hat=y_pred)\n",
        "    model.backward(loss_grad)\n",
        "    # Update parameters\n",
        "    optim.step(model.param_groups())\n",
        "\n",
        "  for batch_x, batch_y in test_loader:\n",
        "    # Forward propagation\n",
        "    with model.cache_preserve():\n",
        "      y_pred = model(batch_x)\n",
        "      loss = loss_fn(y_true=batch_y, y_hat=y_pred)\n",
        "      total_tloss += loss / test_loader.num_batches\n",
        "      total_tacc += accuracy(batch_y, y_pred)*100 / loader.num_batches\n",
        "\n",
        "  if epoch % 1 == 0:\n",
        "    print(\n",
        "        f\"[Epoch: {epoch}/{epochs}] - Loss: {total_loss.item():.6f} - Acc: {total_acc:.2f}%\"\n",
        "        f\" | TestLoss: {total_tloss.item():.6f} - TestAcc: {total_tacc:.2f}% \")"
      ],
      "metadata": {
        "colab": {
          "base_uri": "https://localhost:8080/"
        },
        "id": "dJyYRSjH-7ux",
        "outputId": "68dcad80-fb15-4a9d-da04-12c22c7eb003"
      },
      "execution_count": 31,
      "outputs": [
        {
          "output_type": "stream",
          "name": "stdout",
          "text": [
            "[Epoch: 0/15] - Loss: 2.301883 - Acc: 11.65% | TestLoss: 2.300347 - TestAcc: 12.85% \n",
            "[Epoch: 1/15] - Loss: 2.299791 - Acc: 12.94% | TestLoss: 2.298769 - TestAcc: 13.14% \n",
            "[Epoch: 2/15] - Loss: 2.297684 - Acc: 13.38% | TestLoss: 2.296403 - TestAcc: 13.27% \n",
            "[Epoch: 3/15] - Loss: 2.294392 - Acc: 13.38% | TestLoss: 2.291352 - TestAcc: 12.82% \n",
            "[Epoch: 4/15] - Loss: 2.286910 - Acc: 12.04% | TestLoss: 2.278740 - TestAcc: 10.64% \n",
            "[Epoch: 5/15] - Loss: 2.265138 - Acc: 9.83% | TestLoss: 2.238404 - TestAcc: 9.30% \n",
            "[Epoch: 6/15] - Loss: 2.206747 - Acc: 12.04% | TestLoss: 2.167608 - TestAcc: 19.34% \n",
            "[Epoch: 7/15] - Loss: 2.140634 - Acc: 21.11% | TestLoss: 2.112246 - TestAcc: 23.04% \n",
            "[Epoch: 8/15] - Loss: 2.088416 - Acc: 24.46% | TestLoss: 2.055830 - TestAcc: 25.70% \n",
            "[Epoch: 9/15] - Loss: 2.032473 - Acc: 26.53% | TestLoss: 2.000882 - TestAcc: 27.79% \n",
            "[Epoch: 10/15] - Loss: 1.979456 - Acc: 28.65% | TestLoss: 1.950516 - TestAcc: 29.73% \n",
            "[Epoch: 11/15] - Loss: 1.931337 - Acc: 30.52% | TestLoss: 1.904086 - TestAcc: 32.05% \n",
            "[Epoch: 12/15] - Loss: 1.882954 - Acc: 33.16% | TestLoss: 1.852287 - TestAcc: 35.69% \n",
            "[Epoch: 13/15] - Loss: 1.829226 - Acc: 37.75% | TestLoss: 1.798348 - TestAcc: 40.77% \n",
            "[Epoch: 14/15] - Loss: 1.769017 - Acc: 42.31% | TestLoss: 1.740233 - TestAcc: 43.68% \n"
          ]
        }
      ]
    },
    {
      "cell_type": "code",
      "source": [],
      "metadata": {
        "id": "CL7zDFQa_PNh"
      },
      "execution_count": 31,
      "outputs": []
    }
  ]
}